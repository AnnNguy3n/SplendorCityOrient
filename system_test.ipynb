{
 "cells": [
  {
   "cell_type": "code",
   "execution_count": null,
   "metadata": {},
   "outputs": [],
   "source": [
    "from env import *\n",
    "from env import __AGENT_SIZE__"
   ]
  },
  {
   "cell_type": "code",
   "execution_count": 24,
   "metadata": {},
   "outputs": [
    {
     "name": "stdout",
     "output_type": "stream",
     "text": [
      "348 347 347\n"
     ]
    }
   ],
   "source": [
    "perData = List()\n",
    "perData.append(np.array([[0.]]))\n",
    "\n",
    "listAgent = [randomBot,randomBot,randomBot,randomBot]\n",
    "\n",
    "a = 1000\n",
    "\n",
    "while a > 350:\n",
    "\n",
    "    list_Env = []\n",
    "    list_validActions = []\n",
    "    list_Action = []\n",
    "\n",
    "    env, lv1, lv2, lv3, oriLv1, oriLv2, oriLv3 = initEnv()\n",
    "    list_Env.append(visualizeEnv(env, lv1, lv2, lv3, oriLv1, oriLv2, oriLv3))\n",
    "\n",
    "    tempData = []\n",
    "    for _ in range(__AGENT_SIZE__):\n",
    "        dataOnePlayer = List()\n",
    "        dataOnePlayer.append(np.array([[0.]]))\n",
    "        tempData.append(dataOnePlayer)\n",
    "\n",
    "    winner = -1\n",
    "    while env[105] < 400:\n",
    "        pIdx = env[105] % 4\n",
    "        list_validActions.append(np.where(getValidActions(getAgentState(env, lv1, lv2, lv3, oriLv1, oriLv2, oriLv3))==1)[0])\n",
    "        action, tempData[pIdx], perData = listAgent[pIdx](getAgentState(env, lv1, lv2, lv3, oriLv1, oriLv2, oriLv3), tempData[pIdx], perData)\n",
    "        list_Action.append(action)\n",
    "        stepEnv(action, env, lv1, lv2, lv3, oriLv1, oriLv2, oriLv3)\n",
    "        list_Env.append(visualizeEnv(env, lv1, lv2, lv3, oriLv1, oriLv2, oriLv3))\n",
    "        winner = checkEnded(env)\n",
    "        if winner != -1:\n",
    "            break\n",
    "\n",
    "    for pIdx in range(4):\n",
    "        env[105] = pIdx\n",
    "        action, tempData[pIdx], perData = listAgent[pIdx](getAgentState(env, lv1, lv2, lv3, oriLv1, oriLv2, oriLv3), tempData[pIdx], perData)\n",
    "    \n",
    "    a = len(list_Env)\n",
    "\n",
    "print(len(list_Env), len(list_validActions), len(list_Action))"
   ]
  },
  {
   "cell_type": "code",
   "execution_count": 466,
   "metadata": {},
   "outputs": [
    {
     "data": {
      "text/plain": [
       "10"
      ]
     },
     "execution_count": 466,
     "metadata": {},
     "output_type": "execute_result"
    }
   ],
   "source": [
    "i ="
   ]
  },
  {
   "cell_type": "code",
   "execution_count": 490,
   "metadata": {},
   "outputs": [
    {
     "name": "stdout",
     "output_type": "stream",
     "text": [
      "[55 56 57 58 59]\n",
      "59\n",
      "BoardGems [0 3 1 2 1 5]\n",
      "NobleID [0 0 1 3 6]\n",
      "BaseCard {'Lv1': array([28, 15,  7,  2], dtype=int64), 'Lv2': array([57, 69, 66, 63], dtype=int64), 'Lv3': array([85, 80, 84, 90], dtype=int64)}\n",
      "OrientCard {'Lv1': array([0, 0], dtype=int64), 'Lv2': array([107, 101], dtype=int64), 'Lv3': array([113, 112], dtype=int64)}\n",
      "Player_0 {'Gems': array([2, 1, 0, 4, 2, 0], dtype=int64), 'PerGems': array([1, 4, 1, 2, 1], dtype=int64), 'OrientGoldGems': 2, 'Score': 3, 'HidingCards': array([75, 74, 95], dtype=int64), 'HidingNobles': array([0, 0, 0], dtype=int64)}\n",
      "Player_1 {'Gems': array([1, 0, 1, 0, 1, 0], dtype=int64), 'PerGems': array([1, 3, 2, 1, 1], dtype=int64), 'OrientGoldGems': 0, 'Score': 9, 'HidingCards': array([117,  83,  55], dtype=int64), 'HidingNobles': array([5, 0, 0], dtype=int64)}\n",
      "Player_2 {'Gems': array([2, 3, 2, 1, 3, 0], dtype=int64), 'PerGems': array([3, 0, 0, 3, 2], dtype=int64), 'OrientGoldGems': 2, 'Score': 0, 'HidingCards': array([79, 60, 76], dtype=int64), 'HidingNobles': array([0, 0, 0], dtype=int64)}\n",
      "Player_3 {'Gems': array([2, 0, 3, 0, 0, 0], dtype=int64), 'PerGems': array([0, 3, 4, 0, 0], dtype=int64), 'OrientGoldGems': 0, 'Score': 11, 'HidingCards': array([ 62,  78, 102], dtype=int64), 'HidingNobles': array([2, 0, 0], dtype=int64)}\n",
      "Turn 106\n",
      "Phase 4\n",
      "TakenStocks [0 0 0 0 0]\n",
      "NumBoughtCards [10  8  9  7]\n",
      "EndGame 0\n",
      "HideCardsLv1Order (array([13, 14,  0, 28,  6, 36, 15, 23, 37,  8,  2, 38, 20, 24, 22, 18, 30,\n",
      "        9, 33, 27,  1,  5, 34, 29, 26, 21,  3, 12, 35,  7, 16,  4, 32, 31,\n",
      "       17, 39, 25, 19, 11, 10], dtype=int64), 21)\n",
      "HideCardsLv2Order (array([51, 59, 64, 61, 46, 56, 54, 55, 43, 62, 40, 68, 50, 65, 66, 53, 58,\n",
      "       45, 41, 48, 47, 63, 67, 57, 44, 69, 60, 42, 52, 49], dtype=int64), 14)\n",
      "HideCardsLv3Order (array([73, 82, 78, 74, 83, 70, 75, 77, 79, 72, 84, 89, 80, 81, 88, 85, 86,\n",
      "       87, 76, 71], dtype=int64), 12)\n",
      "HideOrientLv1Order (array([13, 14,  0, 28,  6, 36, 15, 23, 37,  8,  2, 38, 20, 24, 22, 18, 30,\n",
      "        9, 33, 27,  1,  5, 34, 29, 26, 21,  3, 12, 35,  7, 16,  4, 32, 31,\n",
      "       17, 39, 25, 19, 11, 10], dtype=int64), 21)\n",
      "HideOrientLv2Order (array([51, 59, 64, 61, 46, 56, 54, 55, 43, 62, 40, 68, 50, 65, 66, 53, 58,\n",
      "       45, 41, 48, 47, 63, 67, 57, 44, 69, 60, 42, 52, 49], dtype=int64), 14)\n",
      "HideOrientLv3Order (array([73, 82, 78, 74, 83, 70, 75, 77, 79, 72, 84, 89, 80, 81, 88, 85, 86,\n",
      "       87, 76, 71], dtype=int64), 12)\n"
     ]
    }
   ],
   "source": [
    "i = i+1\n",
    "print(list_validActions[i])\n",
    "print(list_Action[i])\n",
    "for key, value in list_Env[i].items():\n",
    "    print(key, value)"
   ]
  }
 ],
 "metadata": {
  "kernelspec": {
   "display_name": "Python 3.10.4 64-bit",
   "language": "python",
   "name": "python3"
  },
  "language_info": {
   "codemirror_mode": {
    "name": "ipython",
    "version": 3
   },
   "file_extension": ".py",
   "mimetype": "text/x-python",
   "name": "python",
   "nbconvert_exporter": "python",
   "pygments_lexer": "ipython3",
   "version": "3.10.4"
  },
  "orig_nbformat": 4,
  "vscode": {
   "interpreter": {
    "hash": "3bc1a11519d29b3ed6f08646f3ece60640217e649724c6bcfd38e1173c1a1bce"
   }
  }
 },
 "nbformat": 4,
 "nbformat_minor": 2
}
