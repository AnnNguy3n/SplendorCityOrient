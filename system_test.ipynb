{
 "cells": [
  {
   "cell_type": "code",
   "execution_count": 1,
   "metadata": {},
   "outputs": [],
   "source": [
    "from env import *"
   ]
  },
  {
   "cell_type": "code",
   "execution_count": 3,
   "metadata": {},
   "outputs": [
    {
     "name": "stdout",
     "output_type": "stream",
     "text": [
      "1000 [258 225 244 273   0]\n",
      "2000 [521 477 483 519   0]\n",
      "3000 [779 744 737 740   0]\n",
      "4000 [1029  994  978  999    0]\n",
      "5000 [1276 1235 1235 1254    0]\n",
      "6000 [1520 1491 1495 1494    0]\n",
      "7000 [1771 1745 1733 1751    0]\n",
      "8000 [2022 1998 1969 2011    0]\n",
      "9000 [2241 2282 2214 2263    0]\n",
      "10000 [2509 2533 2456 2502    0]\n"
     ]
    },
    {
     "data": {
      "text/plain": [
       "(array([2509, 2533, 2456, 2502,    0], dtype=int64),\n",
       " ListType[array(float64, 2d, C)]([[[0.]], ...]))"
      ]
     },
     "execution_count": 3,
     "metadata": {},
     "output_type": "execute_result"
    }
   ],
   "source": [
    "perFile = List()\n",
    "perFile.append(np.array([[0.]]))\n",
    "\n",
    "numbaMain(numbaRandomBot,numbaRandomBot,numbaRandomBot,numbaRandomBot, 100000, perFile, True, 1000)"
   ]
  }
 ],
 "metadata": {
  "kernelspec": {
   "display_name": "Python 3.10.4 64-bit",
   "language": "python",
   "name": "python3"
  },
  "language_info": {
   "codemirror_mode": {
    "name": "ipython",
    "version": 3
   },
   "file_extension": ".py",
   "mimetype": "text/x-python",
   "name": "python",
   "nbconvert_exporter": "python",
   "pygments_lexer": "ipython3",
   "version": "3.10.4"
  },
  "orig_nbformat": 4,
  "vscode": {
   "interpreter": {
    "hash": "3bc1a11519d29b3ed6f08646f3ece60640217e649724c6bcfd38e1173c1a1bce"
   }
  }
 },
 "nbformat": 4,
 "nbformat_minor": 2
}
